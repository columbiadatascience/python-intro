{
 "cells": [
  {
   "cell_type": "markdown",
   "metadata": {},
   "source": [
    "This is the first example!"
   ]
  },
  {
   "cell_type": "code",
   "execution_count": 29,
   "metadata": {
    "collapsed": false
   },
   "outputs": [
    {
     "name": "stdout",
     "output_type": "stream",
     "text": [
      "<class 'str'>\n"
     ]
    }
   ],
   "source": [
    "a = 3 #integer a = 3\n",
    "b = \"Hello\" #string \n",
    "a = str(a) #cast a, an int, as a string\n",
    "print(type(a))"
   ]
  },
  {
   "cell_type": "code",
   "execution_count": 4,
   "metadata": {
    "collapsed": false
   },
   "outputs": [
    {
     "name": "stdout",
     "output_type": "stream",
     "text": [
      "[1, 2, 3, 4, 5]\n",
      "5\n",
      "[1, 2, 3, 4, 5, 1, 2, 3, 4, 5]\n"
     ]
    }
   ],
   "source": [
    "mylist = [1,2,3,4,5]\n",
    "print(mylist)\n",
    "print(len(mylist))\n",
    "print(mylist*2) #double the list "
   ]
  },
  {
   "cell_type": "code",
   "execution_count": 3,
   "metadata": {
    "collapsed": false
   },
   "outputs": [
    {
     "name": "stdout",
     "output_type": "stream",
     "text": [
      "ab\n",
      "8\n"
     ]
    }
   ],
   "source": [
    "a = \"a\" + \"b\"\n",
    "print(a)\n",
    "a = 3 + 5 #you can change the type by simply reassigning a variable \n",
    "print(a)"
   ]
  },
  {
   "cell_type": "code",
   "execution_count": 33,
   "metadata": {
    "collapsed": false
   },
   "outputs": [
    {
     "name": "stdout",
     "output_type": "stream",
     "text": [
      "[1, 16, 81, 256, 625]\n"
     ]
    }
   ],
   "source": [
    "print( [x**2 for x in mylist]) #list comprehension does something to each element of a list (squaring)"
   ]
  },
  {
   "cell_type": "code",
   "execution_count": 34,
   "metadata": {
    "collapsed": false
   },
   "outputs": [
    {
     "name": "stdout",
     "output_type": "stream",
     "text": [
      "1\n",
      "65536\n",
      "43046721\n",
      "4294967296\n",
      "152587890625\n"
     ]
    }
   ],
   "source": [
    "for x in mylist: #for loop\n",
    "    print (x**2) #print squared value at each iteration"
   ]
  },
  {
   "cell_type": "code",
   "execution_count": 41,
   "metadata": {
    "collapsed": false
   },
   "outputs": [
    {
     "name": "stdout",
     "output_type": "stream",
     "text": [
      "{'e': 390625, 'c': 6561, 'd': 65536, 'a': 1, 'b': 256}\n"
     ]
    }
   ],
   "source": [
    "anotherlist = [\"a\",\"b\",\"c\",\"d\",\"e\"] #another list, now containing strings\n",
    "mydict = {} #create an empty dictionary\n",
    "# A dictionary has key:value pairs \n",
    "for i in range(0,len(anotherlist)): #loop through each element of anotherlist\n",
    "    mydict[anotherlist[i]] = mylist[i] #assign new dictionary key:value pairs\n",
    "print(mydict)"
   ]
  },
  {
   "cell_type": "code",
   "execution_count": 8,
   "metadata": {
    "collapsed": false
   },
   "outputs": [
    {
     "name": "stdout",
     "output_type": "stream",
     "text": [
      "{'Gerry': 2, 'Jillian': 1}\n",
      "{'Gerry': 2, 'John': 3, 'Jillian': 1}\n"
     ]
    }
   ],
   "source": [
    "my_dict = {\"Gerry\":2, \"Jillian\":1} #assign values directly to a dictionary\n",
    "print(my_dict)\n",
    "my_dict[\"Gerry\"]\n",
    "my_dict[\"John\"] = 3 #add a new key:value to my_dict\n",
    "print(my_dict)\n",
    "my_dict1 = {3:4, 5:6}"
   ]
  },
  {
   "cell_type": "code",
   "execution_count": 48,
   "metadata": {
    "collapsed": false
   },
   "outputs": [
    {
     "name": "stdout",
     "output_type": "stream",
     "text": [
      "[2, 3, 4]\n",
      "{'John': 4, 'Gerry': 2}\n"
     ]
    }
   ],
   "source": [
    "#dictionary new_dict = {}\n",
    "#list new_list = []\n",
    "new_list = []\n",
    "new_dict = {}\n",
    "new_dict[\"Gerry\"] = 2\n",
    "new_dict[\"John\"] = 4\n",
    "new_list.append(2)\n",
    "new_list.append(3)\n",
    "new_list.append(4)\n",
    "print(new_list)\n",
    "print(new_dict)"
   ]
  },
  {
   "cell_type": "code",
   "execution_count": 49,
   "metadata": {
    "collapsed": false
   },
   "outputs": [
    {
     "data": {
      "text/plain": [
       "2"
      ]
     },
     "execution_count": 49,
     "metadata": {},
     "output_type": "execute_result"
    }
   ],
   "source": [
    "new_dict[\"Gerry\"] #return the value corresponding to the key \"Gerry\""
   ]
  },
  {
   "cell_type": "code",
   "execution_count": 53,
   "metadata": {
    "collapsed": false
   },
   "outputs": [
    {
     "name": "stdout",
     "output_type": "stream",
     "text": [
      "John\n",
      "Gerry\n"
     ]
    }
   ],
   "source": [
    "x = list(new_dict.keys())\n",
    "for i in x:\n",
    "    print(i)"
   ]
  },
  {
   "cell_type": "code",
   "execution_count": 76,
   "metadata": {
    "collapsed": false
   },
   "outputs": [
    {
     "name": "stdout",
     "output_type": "stream",
     "text": [
      "                                             Headline  Length\n",
      "0                George HW Bush 'to vote for Clinton'       7\n",
      "1             Warren mauls 'gutless' Wells Fargo boss       6\n",
      "2                  Kaepernick jersey used as door mat       6\n",
      "3            'Police didn't give my brother a chance'       7\n",
      "4                        In pictures: Gender blending       4\n",
      "5             Living in the ‘best country for expats’       7\n",
      "6               Fitness trackers 'not a slimming aid'       6\n",
      "7             Does turmeric really boost your health?       6\n",
      "8              Archive: Brad and Angelina on marriage       6\n",
      "9                 The mysterious muse of Gustav Klimt       6\n",
      "10    In pictures: Astronomy Photographer of the Year       7\n",
      "11              The world’s strangest ‘tunnel vision’       5\n",
      "12       Watching films releases 'natural painkiller'       5\n",
      "13                  Manatees rescued from golf course       5\n",
      "14             Loss of passporting 'significant risk'       5\n",
      "15           The boy who died trying to get to the UK      10\n",
      "16  Rio Paralympics - joy, tears & memories to las...      11\n",
      "17  Harry Potter star says Hollywood 'undeniably r...       7\n",
      "18                   Bouncing deer filmed on UK beach       6\n",
      "19              US Army builds 'ambidextrous' grenade       5\n",
      "20                                  GoPro or go home!       4\n",
      "21                    Mercedes-AMG opens up for Paris       5\n",
      "22                    The Iceland that few get to see       7\n",
      "23            'Toure won't play before agent apology'       6\n",
      "24                        Hate people? Try these jobs       5\n",
      "25                   In pictures: The cat in the barn       7\n",
      "26               Russia involved in Syria attack - US       7\n",
      "27           How Zidane has made Real record breakers       7\n",
      "28        Children starve as Yemen on brink of famine       8\n",
      "29  A flight attendant reveals the best place to s...      12\n",
      "30                 In pictures: Mayflies and macaques       5\n",
      "31  The Travel Show: Meet the world's smallest pen...       8\n",
      "32          The huge lizards taking over Bangkok park       7\n",
      "33                   New York bombing suspect charged       5\n",
      "34            Bystanders watch as Delhi woman stabbed       6\n",
      "35    How disease-testing tech is saving lives faster       7\n",
      "36               Tatiana Maslany finally wins an Emmy       6\n",
      "37         Living in an abandoned Soviet-era hospital       6\n",
      "38       Exclusive: Inside Prince William's other job       6\n",
      "39           Prince William on 'sad and dark moments'       7\n",
      "40                   Leicester City 2-4 Chelsea (AET)       5\n",
      "41           Jim Carrey slates 'heartless' legal case       6\n",
      "42  Trump Jr tweet: 'I'm a refugee' says Skittles ...       9\n",
      "43                     Why do we bother with clothes?       5\n",
      "44                    In pictures: Essential Elements       4\n"
     ]
    }
   ],
   "source": [
    "#web scraping\n",
    "#inport packages\n",
    "from bs4 import BeautifulSoup\n",
    "from urllib.request import urlopen\n",
    "import pandas as pd\n",
    "import csv\n",
    "import numpy as np\n",
    "import matplotlib.pyplot as plt\n",
    "\n",
    "#search_url string\n",
    "search_url = 'http://www.bbc.com/'\n",
    "#open with Beautiful Soup and collect HTML tags\n",
    "soup = BeautifulSoup(urlopen(search_url).read(), 'html.parser')\n",
    "#find classes containing headlines\n",
    "headlines = soup.find_all(\"a\", class_=\"block-link__overlay-link\")\n",
    "\n",
    "headline_list = []\n",
    "for h in headlines:\n",
    "    #convert from BeautifulSoup object to text\n",
    "    #remove trailing and leading whitespace with str.strip()\n",
    "    headline = str(h.get_text())\n",
    "    headline_list.append(headline.strip())\n",
    "    \n",
    "#for h in headline_list:\n",
    "#    print(h)\n",
    "    \n",
    "s = \"a b c d e\"\n",
    "#print(len(s.split(\" \")))\n",
    "\n",
    "headline_length = {}\n",
    "for headline in headline_list:\n",
    "    headline_length[headline] = len(headline.split(\" \"))\n",
    "\n",
    "#print(headline_length)\n",
    "#turn headline_list into Pandas series object\n",
    "series = pd.Series(headline_list)\n",
    "#write to CSV --> will save to same folder that jupyter is opened from\n",
    "series.to_csv(\"headline_list.csv\")\n",
    "\n",
    "#write the dictionary to csv\n",
    "df = pd.DataFrame.from_dict(headline_length, orient=\"index\", dtype=None)\n",
    "df.to_csv(\"dictionary_csv.csv\")\n",
    "\n",
    "#read the csv\n",
    "csv_df = pd.read_csv(\"dictionary_csv.csv\")\n",
    "#rename the columns\n",
    "#test by opening in Excel through your finder/Windows explorer\n",
    "csv_df.columns = ['Headline', 'Length']\n",
    "print(csv_df)\n",
    "\n"
   ]
  }
 ],
 "metadata": {
  "kernelspec": {
   "display_name": "Python 3",
   "language": "python",
   "name": "python3"
  },
  "language_info": {
   "codemirror_mode": {
    "name": "ipython",
    "version": 3
   },
   "file_extension": ".py",
   "mimetype": "text/x-python",
   "name": "python",
   "nbconvert_exporter": "python",
   "pygments_lexer": "ipython3",
   "version": "3.5.1"
  }
 },
 "nbformat": 4,
 "nbformat_minor": 0
}
